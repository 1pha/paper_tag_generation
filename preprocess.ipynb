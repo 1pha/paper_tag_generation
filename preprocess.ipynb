{
 "cells": [
  {
   "cell_type": "markdown",
   "metadata": {},
   "source": [
    "# Preprocess Paperswithcode (Tag-Generation)"
   ]
  },
  {
   "cell_type": "code",
   "execution_count": 4,
   "metadata": {},
   "outputs": [],
   "source": [
    "import yaml\n",
    "import pandas as pd\n",
    "\n",
    "import datasets\n",
    "\n",
    "with open(\"./raw_data/paperswithcode_meta_1016.yml\", 'r') as f:\n",
    "    raw_pp = yaml.load(f, Loader=yaml.Loader)\n",
    "\n",
    "df_pp = pd.DataFrame(raw_pp.values())\n",
    "datasets_pp = datasets.DatasetDict({\"paperswithcode\": datasets.Dataset.from_pandas(df_pp)})[\"paperswithcode\"]\n",
    "datasets_pp = datasets_pp.remove_columns(\n",
    "    ['authors', 'conference', 'conference_url_abs', 'conference_url_pdf', 'id', 'nips_id', 'proceeding', 'published', 'url_abs', 'url_pdf']\n",
    ")"
   ]
  },
  {
   "cell_type": "code",
   "execution_count": null,
   "metadata": {},
   "outputs": [],
   "source": [
    "from sklearn.model_selection import train_test_split\n",
    "\n",
    "train_pp, testdev_pp = train_test_split(datasets_pp, train_size=0.9, random_state=42, stratify=datasets_pp['area'])\n",
    "\n",
    "testdev_pp = datasets.Dataset.from_dict(testdev_pp)\n",
    "dev_pp, test_pp = train_test_split(testdev_pp, test_size=0.5, random_state=42, stratify=testdev_pp['area'])"
   ]
  },
  {
   "cell_type": "code",
   "execution_count": 80,
   "metadata": {},
   "outputs": [],
   "source": [
    "train_pp = datasets.Dataset.from_dict(train_pp)\n",
    "train_pp.save_to_disk('./data/paperswithcode/train')\n",
    "\n",
    "dev_pp = datasets.Dataset.from_dict(dev_pp)\n",
    "dev_pp.save_to_disk('./data/paperswithcode/dev')\n",
    "\n",
    "test_pp = datasets.Dataset.from_dict(test_pp)\n",
    "test_pp.save_to_disk('./data/paperswithcode/test_gt')\n",
    "\n",
    "test_pp = test_pp.remove_columns(['area', 'task_id'])\n",
    "test_pp.save_to_disk('./data/test')"
   ]
  },
  {
   "cell_type": "markdown",
   "metadata": {},
   "source": [
    "# Load Data for Sanity-check"
   ]
  },
  {
   "cell_type": "code",
   "execution_count": 2,
   "metadata": {},
   "outputs": [],
   "source": [
    "from datasets import load_from_disk\n",
    "\n",
    "datasets = load_from_disk('./data/paperswithcode/')\n",
    "datasets"
   ]
  },
  {
   "cell_type": "code",
   "execution_count": null,
   "metadata": {},
   "outputs": [],
   "source": []
  }
 ],
 "metadata": {
  "interpreter": {
   "hash": "20569cddcb8597e045cbcce2e7a427b92841b535fae025f84d70d371fd551156"
  },
  "kernelspec": {
   "display_name": "Python 3.7.11 64-bit ('mrc3': conda)",
   "name": "python3"
  },
  "language_info": {
   "codemirror_mode": {
    "name": "ipython",
    "version": 3
   },
   "file_extension": ".py",
   "mimetype": "text/x-python",
   "name": "python",
   "nbconvert_exporter": "python",
   "pygments_lexer": "ipython3",
   "version": "3.7.11"
  },
  "toc": {
   "base_numbering": 1,
   "nav_menu": {},
   "number_sections": true,
   "sideBar": true,
   "skip_h1_title": false,
   "title_cell": "Table of Contents",
   "title_sidebar": "Contents",
   "toc_cell": false,
   "toc_position": {},
   "toc_section_display": true,
   "toc_window_display": false
  }
 },
 "nbformat": 4,
 "nbformat_minor": 4
}
